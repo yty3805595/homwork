{
 "cells": [
  {
   "cell_type": "code",
   "execution_count": 17,
   "metadata": {
    "ExecuteTime": {
     "end_time": "2019-07-24T12:40:28.662370Z",
     "start_time": "2019-07-24T12:40:25.360888Z"
    }
   },
   "outputs": [],
   "source": [
    "#sift 算法\n",
    "import cv2\n",
    "import numpy as np\n",
    "\n",
    "MIN_MATCH_COUNT = 10\n",
    "img1 = cv2.imread('buildings_part1.jpg')          # queryImage\n",
    "img2 = cv2.imread('buildings_part2.jpg')          # trainImage\n",
    "\n",
    "\n",
    "def SIFT():\n",
    "    # Initiate SIFT detector\n",
    "    sift = cv2.xfeatures2d.SIFT_create()\n",
    "    # find the keypoints and descriptors with SIFT\n",
    "    kp1, des1 = sift.detectAndCompute(img2,None) \n",
    "    kp2, des2 = sift.detectAndCompute(img1,None) #des是描述子\n",
    "    # BFMatcher with default params\n",
    "    bf = cv2.BFMatcher()\n",
    "    matches = bf.knnMatch(des1,des2, k=2)\n",
    "    # Apply ratio test\n",
    "    good = []\n",
    "    for m,n in matches:\n",
    "        if m.distance < 0.75*n.distance:\n",
    "            good.append(m)\n",
    "    # cv2.drawMatchesKnn expects list of lists as matches.\n",
    "    good_2 = np.expand_dims(good, 1)\n",
    "    matching = cv2.drawMatchesKnn(img1,kp1,img2,kp2,good_2[:20],None, flags=2)\n",
    "\n",
    "    if len(good)>MIN_MATCH_COUNT:\n",
    "        # 获取关键点的坐标\n",
    "        src_pts = np.float32([ kp1[m.queryIdx].pt for m in good ]).reshape(-1,1,2)\n",
    "        dst_pts = np.float32([ kp2[m.trainIdx].pt for m in good ]).reshape(-1,1,2)\n",
    "\n",
    "        H, mask = cv2.findHomography(src_pts, dst_pts, cv2.RANSAC,5.0)\n",
    "        wrap = cv2.warpPerspective(img2, H, (img2.shape[1]+img2.shape[1] , img2.shape[0]+img2.shape[0]))\n",
    "        wrap[0:img2.shape[0], 0:img2.shape[1]] = img1\n",
    "\n",
    "        rows, cols = np.where(wrap[:,:,0] !=0)\n",
    "        min_row, max_row = min(rows), max(rows) +1\n",
    "        min_col, max_col = min(cols), max(cols) +1\n",
    "        result = wrap[min_row:max_row,min_col:max_col,:]#去除黑色无用部分\n",
    "\n",
    "        return matching, result\n",
    "\n",
    "\n",
    "if __name__ == '__main__':\n",
    "    matching, result = SIFT()\n",
    "    cv2.imshow('img3.jpg',matching)\n",
    "    cv2.imshow('result.jpg',result)\n",
    "    cv2.waitKey(0)\n",
    "    cv2.destroyAllWindows()\n",
    "    cv2.waitKey(1)\n",
    "    cv2.waitKey(1)\n",
    "    cv2.waitKey(1)\n",
    "    cv2.waitKey(1)"
   ]
  },
  {
   "cell_type": "code",
   "execution_count": 15,
   "metadata": {
    "ExecuteTime": {
     "end_time": "2019-07-24T11:20:12.599678Z",
     "start_time": "2019-07-24T11:20:01.708479Z"
    }
   },
   "outputs": [
    {
     "name": "stdout",
     "output_type": "stream",
     "text": [
      "0:00:00.010970\n"
     ]
    }
   ],
   "source": [
    "#fast 算法\n",
    "import cv2\n",
    "import datetime\n",
    "%matplotlib inline\n",
    "img1 = cv2.imread('buildings_part1.jpg')\n",
    "starttime = datetime.datetime.now()\n",
    "fast = cv2.FastFeatureDetector_create(90)\n",
    "kp = fast.detect(img1,None) #寻找特征点\n",
    "img2 = cv2.drawKeypoints(img1,kp,0)\n",
    "img3 = cv2.drawKeypoints(img1,kp,(255))\n",
    "endtime = datetime.datetime.now()\n",
    "a = endtime- starttime\n",
    "\n",
    " \n",
    "\n",
    "\n",
    "cv2.imshow('fast',img2)\n",
    "cv2.imshow('fast2',img3)\n",
    "key = cv2.waitKey()\n",
    "if key == 27:\n",
    "    cv2.destroyAllWindows()\n",
    "print (a)"
   ]
  },
  {
   "cell_type": "code",
   "execution_count": 4,
   "metadata": {
    "ExecuteTime": {
     "end_time": "2019-07-24T11:13:27.904148Z",
     "start_time": "2019-07-24T11:13:27.900159Z"
    }
   },
   "outputs": [],
   "source": [
    "cv2.FastFeatureDetector_create?"
   ]
  },
  {
   "cell_type": "code",
   "execution_count": 12,
   "metadata": {
    "ExecuteTime": {
     "end_time": "2019-07-24T11:19:10.463783Z",
     "start_time": "2019-07-24T11:19:10.459814Z"
    }
   },
   "outputs": [],
   "source": [
    "cv2.drawKeypoints?"
   ]
  },
  {
   "cell_type": "code",
   "execution_count": 7,
   "metadata": {
    "ExecuteTime": {
     "end_time": "2019-07-24T13:09:27.540396Z",
     "start_time": "2019-07-24T13:09:26.114658Z"
    }
   },
   "outputs": [],
   "source": [
    "#助教答案 参考\n",
    "import numpy as np\n",
    "import cv2\n",
    "\n",
    "# coding: utf-8\n",
    "import numpy as np\n",
    "import cv2\n",
    "\n",
    "left_img = cv2.imread(\"left.jpg\")\n",
    "left_img = cv2.resize(left_img, (600, 400))\n",
    "right_img = cv2.imread(\"right.jpg\")\n",
    "right_img = cv2.resize(right_img, (600, 400))\n",
    "left_gray = cv2.cvtColor(left_img, cv2.COLOR_BGR2GRAY)\n",
    "right_gray = cv2.cvtColor(right_img, cv2.COLOR_BGR2GRAY)\n",
    "\n",
    "hessian = 300\n",
    "surf = cv2.xfeatures2d.SIFT_create(hessian) # 将Hessian Threshold设置为400,阈值越大能检测的特征就越少\n",
    "kp1, des1 = surf.detectAndCompute(left_gray, None)  # 查找关键点和描述符\n",
    "kp2, des2 = surf.detectAndCompute(right_gray, None)\n",
    "#kp1, des1 = surf.detectAndCompute(left_img, None)  # 查找关键点和描述符\n",
    "#kp2, des2 = surf.detectAndCompute(right_img, None)\n",
    "# kp1s = np.float32([kp.pt for kp in kp1])\n",
    "# kp2s = np.float32([kp.pt for kp in kp2])\n",
    "\n",
    "# 显示特征点\n",
    "img_with_drawKeyPoint_left = cv2.drawKeypoints(left_gray, kp1, np.array([]), flags=cv2.DRAW_MATCHES_FLAGS_DRAW_RICH_KEYPOINTS)\n",
    "cv2.imshow(\"img_with_drawKeyPoint_left\", img_with_drawKeyPoint_left)\n",
    "\n",
    "img_with_drawKeyPoint_right = cv2.drawKeypoints(right_gray, kp2, np.array([]), flags=cv2.DRAW_MATCHES_FLAGS_DRAW_RICH_KEYPOINTS)\n",
    "cv2.imshow(\"img_with_drawKeyPoint_right\", img_with_drawKeyPoint_right)\n",
    "\n",
    "\n",
    "'''\n",
    "BFMatcher简称暴力匹配，意思就是尝试所有可能匹配，实现最佳匹配。\n",
    "\n",
    "FlannBasedMatcher简称最近邻近似匹配。\n",
    "是一种近似匹配方法，并不追求完美！，因此速度更快。\n",
    "可以调整FlannBasedMatcher参数改变匹配精度或改变算法速度。\n",
    "参考：https://blog.csdn.net/claroja/article/details/83411108\n",
    "'''\n",
    "FLANN_INDEX_KDTREE = 0  # 建立FLANN匹配器的参数\n",
    "\n",
    "indexParams = dict(algorithm=FLANN_INDEX_KDTREE, trees=5)  # 配置索引，密度树的数量为5\n",
    "searchParams = dict(checks=50)  # 指定递归次数\n",
    "# FlannBasedMatcher：是目前最快的特征匹配算法（最近邻搜索）\n",
    "flann = cv2.FlannBasedMatcher(indexParams, searchParams)  # 建立匹配器\n",
    "\n",
    "# 参考https://docs.opencv.org/master/db/d39/classcv_1_1DescriptorMatcher.html#a378f35c9b1a5dfa4022839a45cdf0e89\n",
    "'''\n",
    "int queryIdx –>是测试图像的特征点描述符（descriptor）的下标，同时也是描述符对应特征点（keypoint)的下标。\n",
    "\n",
    "int trainIdx –> 是样本图像的特征点描述符的下标，同样也是相应的特征点的下标。\n",
    "\n",
    "int imgIdx –>当样本是多张图像的话有用。\n",
    "\n",
    "float distance –>代表这一对匹配的特征点描述符（本质是向量）的欧氏距离，数值越小也就说明两个特征点越相像。\n",
    "'''\n",
    "\n",
    "matches = flann.knnMatch(des1, des2, k=2)  # 得出匹配的关键点\n",
    "\n",
    "\n",
    "good = []\n",
    "# 提取优秀的特征点\n",
    "for m, n in matches:\n",
    "    if m.distance < 0.7 * n.distance:  # 如果第一个邻近距离比第二个邻近距离的0.7倍小，则保留\n",
    "        good.append(m)\n",
    "\n",
    "src_pts = np.array([kp1[m.queryIdx].pt for m in good])  # 查询图像的特征描述子索引\n",
    "dst_pts = np.array([kp2[m.trainIdx].pt for m in good])  # 训练(模板)图像的特征描述子索引\n",
    "\n",
    "\n",
    "# findHomography参考https://docs.opencv.org/master/d9/d0c/group__calib3d.html#ga4abc2ece9fab9398f2e560d53c8c9780\n",
    "# 单应矩阵:https://www.cnblogs.com/wangguchangqing/p/8287585.html\n",
    "H = cv2.findHomography(src_pts, dst_pts, cv2.RANSAC, 5)  # 生成变换矩阵\n",
    "\n",
    "h1, w1 = left_gray.shape[:]\n",
    "h2, w2 = right_gray.shape[:]\n",
    "shift = np.array([[1.0, 0, w1], [0, 1.0, 0], [0, 0, 1.0]])\n",
    "# 点积\n",
    "M = np.dot(shift, H[0])  # 获取左边图像到右边图像的投影映射关系\n",
    "\n",
    "dst = cv2.warpPerspective(left_img, M, (w1+w2, max(h1, h2)))  # 透视变换，新图像可容纳完整的两幅图\n",
    "cv2.imshow('left_img', dst)  # 显示，第一幅图已在标准位置\n",
    "dst[0:h2, w1:w1+w2] = right_img  # 将第二幅图放在右侧\n",
    "#cv2.imwrite('tiled.jpg',dst_corners)\n",
    "cv2.imshow('total_img', dst)\n",
    "cv2.imshow('leftgray', left_img)\n",
    "cv2.imshow('rightgray', right_img)\n",
    "cv2.waitKey(0)\n",
    "cv2.destroyAllWindows()"
   ]
  },
  {
   "cell_type": "code",
   "execution_count": 9,
   "metadata": {
    "ExecuteTime": {
     "end_time": "2019-07-24T13:10:02.486100Z",
     "start_time": "2019-07-24T13:10:02.482113Z"
    }
   },
   "outputs": [
    {
     "ename": "SyntaxError",
     "evalue": "invalid syntax (<ipython-input-9-3cc9ef9cb2f1>, line 1)",
     "output_type": "error",
     "traceback": [
      "\u001b[1;36m  File \u001b[1;32m\"<ipython-input-9-3cc9ef9cb2f1>\"\u001b[1;36m, line \u001b[1;32m1\u001b[0m\n\u001b[1;33m    np.array(kp1[m.queryIdx].pt)?\u001b[0m\n\u001b[1;37m                                ^\u001b[0m\n\u001b[1;31mSyntaxError\u001b[0m\u001b[1;31m:\u001b[0m invalid syntax\n"
     ]
    }
   ],
   "source": [
    "np.array(kp1[m.queryIdx].pt)?"
   ]
  },
  {
   "cell_type": "code",
   "execution_count": null,
   "metadata": {},
   "outputs": [],
   "source": [
    "kp1[m.queryIdx].pt"
   ]
  },
  {
   "cell_type": "code",
   "execution_count": 5,
   "metadata": {
    "ExecuteTime": {
     "end_time": "2019-07-24T13:08:16.981544Z",
     "start_time": "2019-07-24T13:08:16.977556Z"
    }
   },
   "outputs": [],
   "source": [
    "left_gray.shape?"
   ]
  },
  {
   "cell_type": "code",
   "execution_count": null,
   "metadata": {},
   "outputs": [],
   "source": []
  }
 ],
 "metadata": {
  "kernelspec": {
   "display_name": "Python 3",
   "language": "python",
   "name": "python3"
  },
  "language_info": {
   "codemirror_mode": {
    "name": "ipython",
    "version": 3
   },
   "file_extension": ".py",
   "mimetype": "text/x-python",
   "name": "python",
   "nbconvert_exporter": "python",
   "pygments_lexer": "ipython3",
   "version": "3.7.3"
  },
  "latex_envs": {
   "LaTeX_envs_menu_present": true,
   "autoclose": false,
   "autocomplete": true,
   "bibliofile": "biblio.bib",
   "cite_by": "apalike",
   "current_citInitial": 1,
   "eqLabelWithNumbers": true,
   "eqNumInitial": 1,
   "hotkeys": {
    "equation": "Ctrl-E",
    "itemize": "Ctrl-I"
   },
   "labels_anchors": false,
   "latex_user_defs": false,
   "report_style_numbering": false,
   "user_envs_cfg": false
  },
  "toc": {
   "base_numbering": 1,
   "nav_menu": {},
   "number_sections": true,
   "sideBar": true,
   "skip_h1_title": false,
   "title_cell": "Table of Contents",
   "title_sidebar": "Contents",
   "toc_cell": false,
   "toc_position": {},
   "toc_section_display": true,
   "toc_window_display": false
  },
  "varInspector": {
   "cols": {
    "lenName": 16,
    "lenType": 16,
    "lenVar": 40
   },
   "kernels_config": {
    "python": {
     "delete_cmd_postfix": "",
     "delete_cmd_prefix": "del ",
     "library": "var_list.py",
     "varRefreshCmd": "print(var_dic_list())"
    },
    "r": {
     "delete_cmd_postfix": ") ",
     "delete_cmd_prefix": "rm(",
     "library": "var_list.r",
     "varRefreshCmd": "cat(var_dic_list()) "
    }
   },
   "types_to_exclude": [
    "module",
    "function",
    "builtin_function_or_method",
    "instance",
    "_Feature"
   ],
   "window_display": false
  }
 },
 "nbformat": 4,
 "nbformat_minor": 2
}
