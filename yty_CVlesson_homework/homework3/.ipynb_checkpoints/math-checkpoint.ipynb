{
 "cells": [
  {
   "cell_type": "markdown",
   "metadata": {},
   "source": [
    "初步设想：\n",
    "游到对岸的条件为：$V\\times cos\\alpha*T > S_{n}$  \n",
    "$dh = (V_{n}+V\\times sin\\alpha)*T最长游泳的距离$  \n",
    "$为了使上式最大值，要求dh关于\\alpha的导数$  \n",
    "$new formula : dh = (V_{n}+V\\times sin\\alpha)*T - \\lambda(V\\times cos\\alpha*T - S_{n})$  \n",
    "对上式求导\n",
    "$\\frac{\\partial h}{\\partial \\alpha}= V*T*(cos\\alpha + \\lambda *sin\\alpha)$  \n",
    "$当导数 = 0时， \\lambda = \\frac{1}{tan\\alpha}$\n"
   ]
  },
  {
   "cell_type": "markdown",
   "metadata": {},
   "source": [
    "要求 cost function\n",
    "vn = [v1,v2.....vn]#训练数组\n",
    "sn = [s1.s2.....sn]\n",
    "还是要求 vn 与 sn 的关系式\n",
    "将dh的式子变换一下\n",
    "再将$\\lambda$的值带入\n",
    "好像不对。。。。\n",
    "后面再改\n",
    "    "
   ]
  }
 ],
 "metadata": {
  "author": "m",
  "kernelspec": {
   "display_name": "Python 3",
   "language": "python",
   "name": "python3"
  },
  "language_info": {
   "codemirror_mode": {
    "name": "ipython",
    "version": 3
   },
   "file_extension": ".py",
   "mimetype": "text/x-python",
   "name": "python",
   "nbconvert_exporter": "python",
   "pygments_lexer": "ipython3",
   "version": "3.7.3"
  },
  "latex_envs": {
   "LaTeX_envs_menu_present": true,
   "autoclose": false,
   "autocomplete": true,
   "bibliofile": "biblio.bib",
   "cite_by": "apalike",
   "current_citInitial": 1,
   "eqLabelWithNumbers": true,
   "eqNumInitial": 1,
   "hotkeys": {
    "equation": "Ctrl-E",
    "itemize": "Ctrl-I"
   },
   "labels_anchors": false,
   "latex_user_defs": false,
   "report_style_numbering": false,
   "user_envs_cfg": false
  },
  "toc": {
   "base_numbering": 1,
   "nav_menu": {},
   "number_sections": true,
   "sideBar": true,
   "skip_h1_title": false,
   "title_cell": "Table of Contents",
   "title_sidebar": "Contents",
   "toc_cell": false,
   "toc_position": {},
   "toc_section_display": true,
   "toc_window_display": false
  },
  "varInspector": {
   "cols": {
    "lenName": 16,
    "lenType": 16,
    "lenVar": 40
   },
   "kernels_config": {
    "python": {
     "delete_cmd_postfix": "",
     "delete_cmd_prefix": "del ",
     "library": "var_list.py",
     "varRefreshCmd": "print(var_dic_list())"
    },
    "r": {
     "delete_cmd_postfix": ") ",
     "delete_cmd_prefix": "rm(",
     "library": "var_list.r",
     "varRefreshCmd": "cat(var_dic_list()) "
    }
   },
   "types_to_exclude": [
    "module",
    "function",
    "builtin_function_or_method",
    "instance",
    "_Feature"
   ],
   "window_display": false
  }
 },
 "nbformat": 4,
 "nbformat_minor": 2
}
